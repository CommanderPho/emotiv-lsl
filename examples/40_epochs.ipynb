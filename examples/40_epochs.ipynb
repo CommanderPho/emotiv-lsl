{
  "cells": [
    {
      "cell_type": "markdown",
      "metadata": {},
      "source": [
        "\n",
        "# Epoching a Stream in real-time\n",
        "\n",
        ".. include:: ./../../links.inc\n",
        "\n",
        "The :class:`~mne_lsl.stream.EpochsStream` object can be used similarly to\n",
        ":class:`mne.Epochs` to create epochs from a continuous stream of samples around events\n",
        "of interest.\n",
        "\n",
        "<div class=\"alert alert-info\"><h4>Note</h4><p>The :class:`~mne_lsl.stream.EpochsStream` object is designed to work with\n",
        "    any ``Stream`` object. At the time of writing, only\n",
        "    :class:`~mne_lsl.stream.StreamLSL` is available, but any object inheriting from the\n",
        "    abstract :class:`~mne_lsl.stream.BaseStream` object should work.</p></div>\n",
        "\n",
        "A :class:`~mne_lsl.stream.EpochsStream` object support peak-to-peak rejection, baseline\n",
        "correction and detrending.\n",
        "\n",
        "## Event source\n",
        "\n",
        "A :class:`~mne_lsl.stream.EpochsStream` object requires an event source to create\n",
        "epochs. 3 event sources are supported:\n",
        "\n",
        "- a set of ``'stim'`` channels within the attached ``Stream`` object.\n",
        "- a set of ``'stim'`` channels within a separate ``Stream`` object.\n",
        "- an irregularly sampled ``Stream`` object.\n",
        "\n",
        "<div class=\"alert alert-info\"><h4>Note</h4><p>In the case of an irregularly sampled ``Stream`` object, only numerical streams are\n",
        "    supported at the moment because interaction with ``str`` streams in Python is not\n",
        "    as performant as interaction with numerical streams.</p></div>\n",
        "\n",
        "## Set of ``'stim'`` channels\n",
        "\n",
        "The set of ``'stim'`` channels from which the events are extracted can be either part\n",
        "of the regularly sampled ``Stream`` object epoched (argument ``stream``) or part of a\n",
        "separate regularly sampled ``Stream`` object (argument ``event_stream``). In both case,\n",
        "the channel(s) type should be ``'stim'`` and the channel(s) should be formatted for\n",
        ":func:`mne.find_events` to correctly extract the events. The channels to consider are\n",
        "provided in the argument ``event_channels`` and the events to consider in the argument\n",
        "``event_id``. Let's create epochs around the event ID ``2`` from the ``'STI 014'``\n",
        "channel of MNE's sample dataset.\n"
      ]
    },
    {
      "cell_type": "code",
      "execution_count": null,
      "metadata": {
        "collapsed": false
      },
      "outputs": [],
      "source": [
        "import time\n",
        "import uuid\n",
        "\n",
        "import numpy as np\n",
        "from matplotlib import pyplot as plt\n",
        "from mne import Epochs, EpochsArray, annotations_from_events, find_events\n",
        "from mne.io import read_raw_fif\n",
        "\n",
        "from mne_lsl.datasets import sample\n",
        "from mne_lsl.lsl import resolve_streams\n",
        "from mne_lsl.player import PlayerLSL\n",
        "from mne_lsl.stream import EpochsStream, StreamLSL\n",
        "\n",
        "fname = sample.data_path() / \"mne-sample\" / \"sample_audvis_raw.fif\"\n",
        "raw = read_raw_fif(fname, preload=False).pick((\"meg\", \"stim\")).load_data()\n",
        "source_id = uuid.uuid4().hex\n",
        "player = PlayerLSL(\n",
        "    raw,\n",
        "    chunk_size=200,\n",
        "    name=\"tutorial-epochs-1\",\n",
        "    source_id=source_id,\n",
        "    annotations=False,\n",
        ").start()\n",
        "player.info"
      ]
    },
    {
      "cell_type": "markdown",
      "metadata": {},
      "source": [
        "<div class=\"alert alert-info\"><h4>Note</h4><p>A ``chunk_size`` of 200 samples is used here to ensure stability and reliability\n",
        "    while building the documentation on the CI. In practice, a ``chunk_size`` of 200\n",
        "    samples is too large to represent a real-time application.</p></div>\n",
        "\n",
        "In the cell above, a mock LSL stream is created using the ``'meg'`` and ``'stim'``\n",
        "channels of MNE's sample dataset. Now, we need to create a\n",
        ":class:`~mne_lsl.stream.StreamLSL` object connected to this mock LSL stream. The\n",
        "channel ``\"MEG 2443\"`` is marked as bad and the signal is filtered with a low-pass\n",
        "filter.\n",
        "\n"
      ]
    },
    {
      "cell_type": "code",
      "execution_count": null,
      "metadata": {
        "collapsed": false
      },
      "outputs": [],
      "source": [
        "stream = StreamLSL(bufsize=4, name=\"tutorial-epochs-1\", source_id=source_id)\n",
        "stream.connect(acquisition_delay=0.1, processing_flags=\"all\")\n",
        "stream.info[\"bads\"] = [\"MEG 2443\"]  # remove bad channel\n",
        "stream.filter(None, 40, picks=\"grad\")  # filter signal\n",
        "stream.info"
      ]
    },
    {
      "cell_type": "markdown",
      "metadata": {},
      "source": [
        "Now, we can create epochs using this stream as source for both the epochs and the\n",
        "events. The ``'stim'`` channel ``'STI 014'`` is used to extract the events and epochs\n",
        "are created around the event ID ``2`` using the gradiometer channels. The epochs are\n",
        "created around the event, from 200 ms before the event to 500 ms after the event. A\n",
        "baseline correction is applied using the 200 first ms of the epoch as baseline.\n",
        "\n"
      ]
    },
    {
      "cell_type": "code",
      "execution_count": null,
      "metadata": {
        "collapsed": false
      },
      "outputs": [],
      "source": [
        "epochs = EpochsStream(\n",
        "    stream,\n",
        "    bufsize=20,  # number of epoch held in the buffer\n",
        "    event_id=2,\n",
        "    event_channels=\"STI 014\",\n",
        "    tmin=-0.2,\n",
        "    tmax=0.5,\n",
        "    baseline=(None, 0),\n",
        "    picks=\"grad\",\n",
        ").connect(acquisition_delay=0.1)\n",
        "epochs.info"
      ]
    },
    {
      "cell_type": "markdown",
      "metadata": {},
      "source": [
        "Note the ``bufsize`` argument in the cell above. This argument controls the number of\n",
        "epochs that are kept in memory. The actual size of the underlying numpy array depends\n",
        "on the number of epochs, the number of samples (controlled by ``tmin`` and ``tmax``)\n",
        "and the number of channels.\n",
        "\n",
        "Let's wait for a couple of epochs to enter in the buffer, and then let's convert the\n",
        "array to an MNE-Python :class:`~mne.Epochs` object and plot the evoked response.\n",
        "\n"
      ]
    },
    {
      "cell_type": "code",
      "execution_count": null,
      "metadata": {
        "collapsed": false
      },
      "outputs": [],
      "source": [
        "while epochs.n_new_epochs < 10:\n",
        "    time.sleep(0.5)\n",
        "\n",
        "data = epochs.get_data(n_epochs=epochs.n_new_epochs)\n",
        "epochs_mne = EpochsArray(data, epochs.info, verbose=\"WARNING\")\n",
        "epochs_mne.average().plot()\n",
        "plt.show()"
      ]
    },
    {
      "cell_type": "code",
      "execution_count": null,
      "metadata": {
        "collapsed": false
      },
      "outputs": [],
      "source": [
        "epochs.disconnect()\n",
        "stream.disconnect()\n",
        "player.stop()"
      ]
    },
    {
      "cell_type": "markdown",
      "metadata": {},
      "source": [
        "## Irregularly sampled stream\n",
        "\n",
        "The event source can also be an irregularly sampled stream. In this case, each channel\n",
        "represents a separate event. A new value entering the buffer of a channel is\n",
        "interpreted as an event, regardless of the value itself. For instance, we can fake\n",
        "an irregularly sampled numerical stream using a :class:`~mne_lsl.player.PlayerLSL`\n",
        "with a :class:`~mne.io.Raw` object which has :class:`~mne.Annotations` attached to it.\n",
        "\n"
      ]
    },
    {
      "cell_type": "code",
      "execution_count": null,
      "metadata": {
        "collapsed": false
      },
      "outputs": [],
      "source": [
        "events = find_events(raw, stim_channel=\"STI 014\")\n",
        "events = events[np.isin(events[:, 2], (1, 2))]  # keep only events with ID 1 and 2\n",
        "annotations = annotations_from_events(\n",
        "    events,\n",
        "    raw.info[\"sfreq\"],\n",
        "    event_desc={1: \"ignore\", 2: \"event\"},\n",
        "    first_samp=raw.first_samp,\n",
        ")\n",
        "annotations.duration += 0.1  # set duration since annotations_from_events sets it to 0\n",
        "annotations"
      ]
    },
    {
      "cell_type": "code",
      "execution_count": null,
      "metadata": {
        "collapsed": false
      },
      "outputs": [],
      "source": [
        "raw.set_annotations(annotations)\n",
        "player = PlayerLSL(\n",
        "    raw, chunk_size=200, name=\"tutorial-epochs-2\", source_id=source_id, annotations=True\n",
        ").start()\n",
        "player.info"
      ]
    },
    {
      "cell_type": "markdown",
      "metadata": {},
      "source": [
        "We now have 2 LSL stream availables on the network, one of which is an irregularly\n",
        "sampled numerical streams of events.\n",
        "\n"
      ]
    },
    {
      "cell_type": "code",
      "execution_count": null,
      "metadata": {
        "collapsed": false
      },
      "outputs": [],
      "source": [
        "resolve_streams()"
      ]
    },
    {
      "cell_type": "markdown",
      "metadata": {},
      "source": [
        "We can now create a :class:`~mne_lsl.stream.StreamLSL` object for each available\n",
        "stream on the network.\n",
        "\n"
      ]
    },
    {
      "cell_type": "code",
      "execution_count": null,
      "metadata": {
        "collapsed": false
      },
      "outputs": [],
      "source": [
        "stream = StreamLSL(bufsize=4, name=\"tutorial-epochs-2\", source_id=source_id)\n",
        "stream.connect(acquisition_delay=0.1, processing_flags=\"all\")\n",
        "stream.info[\"bads\"] = [\"MEG 2443\"]  # remove bad channel\n",
        "stream.filter(None, 40, picks=\"grad\")  # filter signal\n",
        "stream.info"
      ]
    },
    {
      "cell_type": "code",
      "execution_count": null,
      "metadata": {
        "collapsed": false
      },
      "outputs": [],
      "source": [
        "stream_events = StreamLSL(\n",
        "    bufsize=20, name=\"tutorial-epochs-2-annotations\", source_id=source_id\n",
        ")\n",
        "stream_events.connect(acquisition_delay=0.1, processing_flags=\"all\")\n",
        "stream_events.info"
      ]
    },
    {
      "cell_type": "markdown",
      "metadata": {},
      "source": [
        "Let's first inspect the event stream once a couple of samples have been acquired.\n",
        "\n"
      ]
    },
    {
      "cell_type": "code",
      "execution_count": null,
      "metadata": {
        "collapsed": false
      },
      "outputs": [],
      "source": [
        "while stream_events.n_new_samples < 3:\n",
        "    time.sleep(0.5)\n",
        "data, ts = stream_events.get_data(winsize=stream_events.n_new_samples)\n",
        "print(\"Array of shape (n_channels, n_samples): \", data.shape)\n",
        "data"
      ]
    },
    {
      "cell_type": "markdown",
      "metadata": {},
      "source": [
        "Each channel corresponds to a given annotation, ``0`` to ``'ignore'`` and ``1`` to\n",
        "``'event'``. The value is ``0`` when no annotation is present, and ``x`` when an\n",
        "annotation is present, with ``x`` being the duration of the annotation.\n",
        "\n",
        "Thus, this array can be interpreted as follows:\n",
        "\n",
        "```python\n",
        "array([[0.1, 0. , 0.1],\n",
        "      [0. , 0.1, 0. ]])\n",
        "```\n",
        "- An annotation of 0.1 seconds labelled ``'ignore'`` was received at ``ts[0]``.\n",
        "- An annotation of 0.1 seconds labelled ``'event'`` was received at ``ts[1]``.\n",
        "- An annotation of 0.1 seconds labelled ``'ignore'`` was received at ``ts[2]``.\n",
        "\n",
        "We can now use those 2 streams to create epochs around the events of interest.\n",
        "\n"
      ]
    },
    {
      "cell_type": "code",
      "execution_count": null,
      "metadata": {
        "collapsed": false
      },
      "outputs": [],
      "source": [
        "epochs = EpochsStream(\n",
        "    stream,\n",
        "    bufsize=20,  # number of epoch held in the buffer\n",
        "    event_id=None,\n",
        "    event_channels=\"event\",  # this argument now selects the events of interest\n",
        "    event_stream=stream_events,\n",
        "    tmin=-0.2,\n",
        "    tmax=0.5,\n",
        "    baseline=(None, 0),\n",
        "    picks=\"grad\",\n",
        ").connect(acquisition_delay=0.1)\n",
        "epochs.info"
      ]
    },
    {
      "cell_type": "markdown",
      "metadata": {},
      "source": [
        "Let's wait for a couple of epochs to enter in the buffer, and then let's convert the\n",
        "array to an MNE-Python :class:`~mne.Epochs` object and plot the time-frequency\n",
        "representation of the evoked response.\n",
        "\n"
      ]
    },
    {
      "cell_type": "code",
      "execution_count": null,
      "metadata": {
        "collapsed": false
      },
      "outputs": [],
      "source": [
        "while epochs.n_new_epochs < 10:\n",
        "    time.sleep(0.5)\n",
        "\n",
        "data = epochs.get_data(n_epochs=epochs.n_new_epochs)\n",
        "epochs_mne = EpochsArray(data, epochs.info, tmin=-0.2, verbose=\"WARNING\")\n",
        "freqs = np.arange(1, 10)\n",
        "tfr = epochs_mne.average().compute_tfr(\n",
        "    method=\"multitaper\", freqs=freqs, n_cycles=freqs / 2\n",
        ")\n",
        "tfr.plot(baseline=(None, 0), combine=\"mean\")\n",
        "plt.show()"
      ]
    },
    {
      "cell_type": "markdown",
      "metadata": {},
      "source": [
        "Let's compare this to a :class:`~mne.Epochs` object created from the same number of\n",
        "events offline.\n",
        "\n",
        "<div class=\"alert alert-info\"><h4>Note</h4><p>The same epochs were not selected between the offline and online processing.</p></div>\n",
        "\n"
      ]
    },
    {
      "cell_type": "code",
      "execution_count": null,
      "metadata": {
        "collapsed": false
      },
      "outputs": [],
      "source": [
        "epochs_offline = Epochs(\n",
        "    raw, events, event_id=dict(event=2), baseline=(None, 0), picks=\"grad\", preload=True\n",
        ")\n",
        "epochs_offline.filter(None, 40)\n",
        "tfr = epochs_offline.average().compute_tfr(\n",
        "    method=\"multitaper\", freqs=freqs, n_cycles=freqs / 2\n",
        ")\n",
        "tfr.plot(baseline=(None, 0), combine=\"mean\")\n",
        "plt.show()"
      ]
    },
    {
      "cell_type": "markdown",
      "metadata": {},
      "source": [
        "Finally, in this case a single event was kept in the\n",
        ":class:`~mne_lsl.stream.EpochsStream`, but if more events are retained, it is\n",
        "important to know which one is which. This information is stored in the property\n",
        ":attr:`~mne_lsl.stream.EpochsStream.events` of the\n",
        ":class:`~mne_lsl.stream.EpochsStream`, which is an internal buffer of the event codes.\n",
        "\n"
      ]
    },
    {
      "cell_type": "code",
      "execution_count": null,
      "metadata": {
        "collapsed": false
      },
      "outputs": [],
      "source": [
        "epochs.events"
      ]
    },
    {
      "cell_type": "markdown",
      "metadata": {},
      "source": [
        "<div class=\"alert alert-info\"><h4>Note</h4><p>In the case of an irregularly sampled event stream, the event code represents the\n",
        "    channel idx within the event stream.</p></div>\n",
        "\n",
        "## Free resources\n",
        "\n",
        "When you are done with a :class:`~mne_lsl.player.PlayerLSL`, a\n",
        ":class:`~mne_lsl.stream.StreamLSL` or a :class:`~mne_lsl.stream.EpochsStream` don't\n",
        "forget to free the resources they use to continuously mock an LSL stream or\n",
        "receive new data from an LSL stream.\n",
        "\n"
      ]
    },
    {
      "cell_type": "code",
      "execution_count": null,
      "metadata": {
        "collapsed": false
      },
      "outputs": [],
      "source": [
        "epochs.disconnect()"
      ]
    },
    {
      "cell_type": "code",
      "execution_count": null,
      "metadata": {
        "collapsed": false
      },
      "outputs": [],
      "source": [
        "stream.disconnect()"
      ]
    },
    {
      "cell_type": "code",
      "execution_count": null,
      "metadata": {
        "collapsed": false
      },
      "outputs": [],
      "source": [
        "stream_events.disconnect()"
      ]
    },
    {
      "cell_type": "code",
      "execution_count": null,
      "metadata": {
        "collapsed": false
      },
      "outputs": [],
      "source": [
        "player.stop()"
      ]
    }
  ],
  "metadata": {
    "kernelspec": {
      "display_name": "lsl_env",
      "language": "python",
      "name": "python3"
    },
    "language_info": {
      "codemirror_mode": {
        "name": "ipython",
        "version": 3
      },
      "file_extension": ".py",
      "mimetype": "text/x-python",
      "name": "python",
      "nbconvert_exporter": "python",
      "pygments_lexer": "ipython3",
      "version": "3.8.20"
    }
  },
  "nbformat": 4,
  "nbformat_minor": 0
}
